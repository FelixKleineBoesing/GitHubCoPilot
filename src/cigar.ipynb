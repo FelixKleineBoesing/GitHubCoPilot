{
 "cells": [
  {
   "cell_type": "code",
   "execution_count": 5,
   "outputs": [],
   "source": [
    "from googlesearch import search\n",
    "import requests"
   ],
   "metadata": {
    "collapsed": false,
    "pycharm": {
     "name": "#%%\n"
    }
   }
  },
  {
   "cell_type": "code",
   "execution_count": 6,
   "outputs": [],
   "source": [
    "query = \"cigar shops near Münster, germany\"\n",
    "results = list(search(query, lang=\"en\"))"
   ],
   "metadata": {
    "collapsed": false,
    "pycharm": {
     "name": "#%%\n"
    }
   }
  },
  {
   "cell_type": "code",
   "execution_count": 7,
   "outputs": [],
   "source": [
    "# get html of every website in the list and store it in a list\n",
    "html_list = []\n",
    "for result in results:\n",
    "    html_list.append(requests.get(result).text)\n"
   ],
   "metadata": {
    "collapsed": false,
    "pycharm": {
     "name": "#%%\n"
    }
   }
  },
  {
   "cell_type": "code",
   "execution_count": 9,
   "outputs": [],
   "source": [
    "from bs4 import BeautifulSoup\n",
    "\n",
    "# use beautiful soup to parse the html of every item in the list html list\n",
    "soup_list = []\n",
    "for html in html_list:\n",
    "    soup_list.append(BeautifulSoup(html, \"html.parser\"))"
   ],
   "metadata": {
    "collapsed": false,
    "pycharm": {
     "name": "#%%\n"
    }
   }
  },
  {
   "cell_type": "code",
   "execution_count": 13,
   "outputs": [],
   "source": [
    "# extract meta keywords and meta title from the html of every website\n",
    "meta_keywords_list = []\n",
    "meta_title_list = []\n",
    "meta_description_list = []\n",
    "for soup in soup_list:\n",
    "    meta_keywords_list.append(soup.find(\"meta\", attrs={\"name\":\"keywords\"}))\n",
    "    meta_title_list.append(soup.find(\"title\").text)\n",
    "    meta_description_list.append(soup.find(\"meta\", attrs={\"name\":\"description\"}))"
   ],
   "metadata": {
    "collapsed": false,
    "pycharm": {
     "name": "#%%\n"
    }
   }
  },
  {
   "cell_type": "code",
   "execution_count": 14,
   "outputs": [
    {
     "name": "stdout",
     "output_type": "stream",
     "text": [
      "[<meta content=\"Best Tobacco Shops in Münster, Nordrhein-Westfalen, Germany - Tabak Träber, Shanti, Lotto Fischer, Sabine Tebbe, Schreibwaren Birgit Michael, Norbert Zacheja, Lammerding Zigarren Tabakwaren Groß- u Einzelhandel, Tabakwaren Fortmann, Alfred Karweger, Uwe Leifeld\" data-rh=\"true\" name=\"description\"/>, <meta content=\"Ihr Fachgeschäft für Pfeifen und Zigarren in Münster - Habanos Specialist - Davidoff Ambassador - Davidoff Lounge\" name=\"description\"/>, <meta content=\"Korn oder Whisky? Der beste Whisky Kontinentaleuropas ist ein Korn. Der Cigar Special wurde bei der „International Wine and Spirits Competition“ in L…\" name=\"description\"/>, <meta content=\"Ihr Tabakwaren Spezialist in Münster  Hammer Straße 63, 48153 Münster, Deutschland, 48153 Münster\" name=\"description\"/>, None, <meta content=\"Get website, phone, hours, directions for Wilhelm Fincke Tabakwaren Groß- und Einzelhandel Inhaber Daniel Fincke e.K., Hammer Straße 63 Münster, +49 251527298. Find other cigar shop in Münster with Yellow Pages Network.\" name=\"description\"/>, <meta content=\"▷The Best Information about Frankfurt in cigar shops in Frankfurt✔️. Find all the information and tips. Enter now to check them! ➜\" name=\"description\">\n",
      "<script type=\"application/ld+json\">{ \"@context\": \"http://www.schema.org\",\"@type\": \"Organization\",\"name\": \"For World Lovers\",\"url\": \"http://forworldlovers.com/\",\"address\": {\"@type\": \"PostalAddress\",\"streetAddress\": \"Carrer de Carreras i Candi, 220\",\"addressLocality\": \"Barcelona\",\"addressRegion\": \"Barcelona\",\"postalCode\": \"08028\",\"addressCountry\": \"España\"}}</script>\n",
      "<!-- Global site tag (gtag.js) - Google Analytics -->\n",
      "<script async=\"\" src=\"https://www.googletagmanager.com/gtag/js?id=UA-215895723-16\"></script>\n",
      "<script>\r\n",
      "  window.dataLayer = window.dataLayer || [];\r\n",
      "  function gtag(){dataLayer.push(arguments);}\r\n",
      "  gtag('js', new Date());\r\n",
      "\r\n",
      "  gtag('config', 'UA-215895723-16');\r\n",
      "</script>\n",
      "<meta content=\"ZHhaTmJuTjduQ2psVzlCUitqMDZwN0NRQUVIQ0ZPWUVLYmpRdEJVSWhjaz01\" name=\"dmca-site-verification\">\n",
      "<script async=\"\" crossorigin=\"anonymous\" src=\"https://pagead2.googlesyndication.com/pagead/js/adsbygoogle.js?client=ca-pub-8165345003045431\"></script>\n",
      "<link href=\"/images/logo.png\" rel=\"apple-touch-icon\"/>\n",
      "<meta content=\"#FFE1C4\" name=\"apple-mobile-web-app-status-bar\"/>\n",
      "<meta content=\"#FFE1C4\" name=\"theme-color\"/>\n",
      "<script src=\"/assets/js/app.js\"></script>\n",
      "<link href=\"/assets/js/manifest.json\" rel=\"manifest\"/>\n",
      "</meta></meta>, <meta content=\"Waymarking.com is a way to mark unique locations on the planet and give them a voice. While GPS technology allows us to pinpoint any location on the planet, mark the location, and share it with others, Waymarking is the toolset for categorizing and adding unique information for that location.\" name=\"description\"/>, <meta content=\"Kargl Cigar Lounge is at Grafenwall, 45657, Recklinghausen, Regierungsbezirk Munster, Germany Map, GPS  51.615669,7.200814. Find Kargl Cigar Lounge tobacco in Map.\" name=\"description\"/>, <meta content=\"Waymarking.com is a way to mark unique locations on the planet and give them a voice. While GPS technology allows us to pinpoint any location on the planet, mark the location, and share it with others, Waymarking is the toolset for categorizing and adding unique information for that location.\" name=\"description\"/>, <meta content=\"Kargl Cigar Lounge is at Grafenwall, 45657, Recklinghausen, Regierungsbezirk Munster, Germany Map, GPS  51.615669,7.200814. Find Kargl Cigar Lounge tobacco in Map.\" name=\"description\"/>]\n"
     ]
    }
   ],
   "source": [
    "print(meta_description_list)"
   ],
   "metadata": {
    "collapsed": false,
    "pycharm": {
     "name": "#%%\n"
    }
   }
  },
  {
   "cell_type": "code",
   "execution_count": null,
   "outputs": [],
   "source": [],
   "metadata": {
    "collapsed": false,
    "pycharm": {
     "name": "#%%\n"
    }
   }
  }
 ],
 "metadata": {
  "kernelspec": {
   "display_name": "Python 3",
   "language": "python",
   "name": "python3"
  },
  "language_info": {
   "codemirror_mode": {
    "name": "ipython",
    "version": 2
   },
   "file_extension": ".py",
   "mimetype": "text/x-python",
   "name": "python",
   "nbconvert_exporter": "python",
   "pygments_lexer": "ipython2",
   "version": "2.7.6"
  }
 },
 "nbformat": 4,
 "nbformat_minor": 0
}