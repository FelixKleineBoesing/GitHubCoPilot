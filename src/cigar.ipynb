{
 "cells": [
  {
   "cell_type": "code",
   "execution_count": 1,
   "outputs": [],
   "source": [
    "from googlesearch import search\n",
    "import requests"
   ],
   "metadata": {
    "collapsed": false,
    "pycharm": {
     "name": "#%%\n"
    }
   }
  },
  {
   "cell_type": "code",
   "execution_count": 2,
   "outputs": [],
   "source": [
    "# search for cigar shops near Münster, germany with googlesarch and store the results in a list\n",
    "query = 'cigar shop near Münster, germany'\n",
    "results = list(search(query, lang=\"en\"))"
   ],
   "metadata": {
    "collapsed": false,
    "pycharm": {
     "name": "#%%\n"
    }
   }
  },
  {
   "cell_type": "code",
   "execution_count": 3,
   "outputs": [],
   "source": [
    "# get html of every website in the list and store it in a list\n",
    "html_list = []\n",
    "for result in results:\n",
    "    html_list.append(requests.get(result).text)"
   ],
   "metadata": {
    "collapsed": false,
    "pycharm": {
     "name": "#%%\n"
    }
   }
  },
  {
   "cell_type": "code",
   "execution_count": 5,
   "outputs": [],
   "source": [
    "from bs4 import BeautifulSoup\n",
    "\n",
    "# use beautiful soup to parse the html and store the results in a list\n",
    "soup_list = []\n",
    "for html in html_list:\n",
    "    soup_list.append(BeautifulSoup(html, 'html.parser'))\n"
   ],
   "metadata": {
    "collapsed": false,
    "pycharm": {
     "name": "#%%\n"
    }
   }
  },
  {
   "cell_type": "code",
   "execution_count": 9,
   "outputs": [],
   "source": [
    "# extract meta keywords and meta titles from every html in the list\n",
    "meta_keywords = []\n",
    "meta_titles = []\n",
    "meta_descriptions = []\n",
    "for soup in soup_list:\n",
    "    meta_keywords.append(soup.find('meta', attrs={'name':'keywords'}))\n",
    "    meta_titles.append(soup.find('title').text)\n",
    "    meta_descriptions.append(soup.find('meta', attrs={'name':'description'}))"
   ],
   "metadata": {
    "collapsed": false,
    "pycharm": {
     "name": "#%%\n"
    }
   }
  },
  {
   "cell_type": "code",
   "execution_count": 10,
   "outputs": [
    {
     "name": "stdout",
     "output_type": "stream",
     "text": [
      "[<meta content=\"Best Tobacco Shops in Münster, Nordrhein-Westfalen, Germany - Tabak Träber, Shanti, Lotto Fischer, Sabine Tebbe, Schreibwaren Birgit Michael, Norbert Zacheja, Lammerding Zigarren Tabakwaren Groß- u Einzelhandel, Tabakwaren Fortmann, Alfred Karweger, Uwe Leifeld\" data-rh=\"true\" name=\"description\"/>, <meta content=\"Ihr Fachgeschäft für Pfeifen und Zigarren in Münster - Habanos Specialist - Davidoff Ambassador - Davidoff Lounge\" name=\"description\"/>, <meta content=\"Ihr Tabakwaren Spezialist in Münster  Hammer Straße 63, 48153 Münster, Deutschland, 48153 Münster\" name=\"description\"/>, <meta content=\"Get website, phone, hours, directions for Wilhelm Fincke Tabakwaren Groß- und Einzelhandel Inhaber Daniel Fincke e.K., Hammer Straße 63 Münster, +49 251527298. Find other cigar shop in Münster with Yellow Pages Network.\" name=\"description\"/>, <meta content=\"Fachgeschäft für Whisky und Zigarren. Großer, begehbarer Humidor und großzügiger Rauchsalon. Tastings von Whisky oder Zigarren.\" name=\"description\">\n",
      "<link href=\"https://www.whiskycigarsalon.com/de/\" rel=\"canonical\"/>\n",
      "<meta content=\"de_DE\" property=\"og:locale\"/>\n",
      "<meta content=\"nl_NL\" property=\"og:locale:alternate\"/>\n",
      "<meta content=\"website\" property=\"og:type\"/>\n",
      "<meta content=\"whisky &amp; cigar salon in Gronau (Westfalen)\" property=\"og:title\"/>\n",
      "<meta content=\"Fachgeschäft für Whisky und Zigarren. Großer, begehbarer Humidor und großzügiger Rauchsalon. Tastings von Whisky oder Zigarren.\" property=\"og:description\"/>\n",
      "<meta content=\"https://www.whiskycigarsalon.com/de/\" property=\"og:url\"/>\n",
      "<meta content=\"Whisky &amp; Cigar Salon\" property=\"og:site_name\"/>\n",
      "<meta content=\"2022-04-18T08:33:51+00:00\" property=\"article:modified_time\"/>\n",
      "<meta content=\"Geschätzte Lesezeit\" name=\"twitter:label1\"/>\n",
      "<meta content=\"11 Minuten\" name=\"twitter:data1\"/>\n",
      "<script class=\"yoast-schema-graph\" type=\"application/ld+json\">{\"@context\":\"https://schema.org\",\"@graph\":[{\"@type\":\"WebSite\",\"@id\":\"https://www.whiskycigarsalon.com/de/#website\",\"url\":\"https://www.whiskycigarsalon.com/de/\",\"name\":\"Whisky & Cigar Salon\",\"description\":\"\",\"potentialAction\":[{\"@type\":\"SearchAction\",\"target\":{\"@type\":\"EntryPoint\",\"urlTemplate\":\"https://www.whiskycigarsalon.com/de/?s={search_term_string}\"},\"query-input\":\"required name=search_term_string\"}],\"inLanguage\":\"de-DE\"},{\"@type\":\"WebPage\",\"@id\":\"https://www.whiskycigarsalon.com/de/#webpage\",\"url\":\"https://www.whiskycigarsalon.com/de/\",\"name\":\"whisky & cigar salon in Gronau (Westfalen)\",\"isPartOf\":{\"@id\":\"https://www.whiskycigarsalon.com/de/#website\"},\"datePublished\":\"2014-05-22T07:04:56+00:00\",\"dateModified\":\"2022-04-18T08:33:51+00:00\",\"description\":\"Fachgeschäft für Whisky und Zigarren. Großer, begehbarer Humidor und großzügiger Rauchsalon. Tastings von Whisky oder Zigarren.\",\"breadcrumb\":{\"@id\":\"https://www.whiskycigarsalon.com/de/#breadcrumb\"},\"inLanguage\":\"de-DE\",\"potentialAction\":[{\"@type\":\"ReadAction\",\"target\":[\"https://www.whiskycigarsalon.com/de/\"]}]},{\"@type\":\"BreadcrumbList\",\"@id\":\"https://www.whiskycigarsalon.com/de/#breadcrumb\",\"itemListElement\":[{\"@type\":\"ListItem\",\"position\":1,\"name\":\"Home\"}]}]}</script>\n",
      "<!-- / Yoast SEO plugin. -->\n",
      "<link crossorigin=\"\" href=\"https://fonts.gstatic.com\" rel=\"preconnect\"/>\n",
      "<link href=\"https://www.whiskycigarsalon.com/de/feed/\" rel=\"alternate\" title=\"Whisky &amp; Cigar Salon » Feed\" type=\"application/rss+xml\"/>\n",
      "<link href=\"https://www.whiskycigarsalon.com/de/comments/feed/\" rel=\"alternate\" title=\"Whisky &amp; Cigar Salon » Kommentar-Feed\" type=\"application/rss+xml\"/>\n",
      "<link href=\"https://www.whiskycigarsalon.com/veranstaltungen/?ical=1\" rel=\"alternate\" title=\"Whisky &amp; Cigar Salon » iCal Feed\" type=\"text/calendar\"/>\n",
      "<style type=\"text/css\">\n",
      "img.wp-smiley,\n",
      "img.emoji {\n",
      "\tdisplay: inline !important;\n",
      "\tborder: none !important;\n",
      "\tbox-shadow: none !important;\n",
      "\theight: 1em !important;\n",
      "\twidth: 1em !important;\n",
      "\tmargin: 0 0.07em !important;\n",
      "\tvertical-align: -0.1em !important;\n",
      "\tbackground: none !important;\n",
      "\tpadding: 0 !important;\n",
      "}\n",
      "</style>\n",
      "<link as=\"style\" data-minify=\"1\" data-rocket-async=\"style\" href=\"https://www.whiskycigarsalon.com/wp-content/cache/min/1/wp-includes/css/dashicons.min.css?ver=1649866514\" media=\"all\" onerror=\"this.removeAttribute('data-rocket-async')\" onload=\"this.onload=null;this.rel='stylesheet'\" rel=\"preload\" type=\"text/css\"/>\n",
      "<link as=\"style\" data-rocket-async=\"style\" href=\"https://www.whiskycigarsalon.com/wp-content/plugins/menu-icons/css/extra.min.css?ver=0.12.11\" media=\"all\" onerror=\"this.removeAttribute('data-rocket-async')\" onload=\"this.onload=null;this.rel='stylesheet'\" rel=\"preload\" type=\"text/css\"/>\n",
      "<link as=\"style\" data-rocket-async=\"style\" href=\"https://www.whiskycigarsalon.com/wp-includes/css/dist/block-library/style.min.css?ver=5.9.3\" media=\"all\" onerror=\"this.removeAttribute('data-rocket-async')\" onload=\"this.onload=null;this.rel='stylesheet'\" rel=\"preload\" type=\"text/css\"/>\n",
      "<style id=\"global-styles-inline-css\" type=\"text/css\">\n",
      "body{--wp--preset--color--black: #000000;--wp--preset--color--cyan-bluish-gray: #abb8c3;--wp--preset--color--white: #ffffff;--wp--preset--color--pale-pink: #f78da7;--wp--preset--color--vivid-red: #cf2e2e;--wp--preset--color--luminous-vivid-orange: #ff6900;--wp--preset--color--luminous-vivid-amber: #fcb900;--wp--preset--color--light-green-cyan: #7bdcb5;--wp--preset--color--vivid-green-cyan: #00d084;--wp--preset--color--pale-cyan-blue: #8ed1fc;--wp--preset--color--vivid-cyan-blue: #0693e3;--wp--preset--color--vivid-purple: #9b51e0;--wp--preset--gradient--vivid-cyan-blue-to-vivid-purple: linear-gradient(135deg,rgba(6,147,227,1) 0%,rgb(155,81,224) 100%);--wp--preset--gradient--light-green-cyan-to-vivid-green-cyan: linear-gradient(135deg,rgb(122,220,180) 0%,rgb(0,208,130) 100%);--wp--preset--gradient--luminous-vivid-amber-to-luminous-vivid-orange: linear-gradient(135deg,rgba(252,185,0,1) 0%,rgba(255,105,0,1) 100%);--wp--preset--gradient--luminous-vivid-orange-to-vivid-red: linear-gradient(135deg,rgba(255,105,0,1) 0%,rgb(207,46,46) 100%);--wp--preset--gradient--very-light-gray-to-cyan-bluish-gray: linear-gradient(135deg,rgb(238,238,238) 0%,rgb(169,184,195) 100%);--wp--preset--gradient--cool-to-warm-spectrum: linear-gradient(135deg,rgb(74,234,220) 0%,rgb(151,120,209) 20%,rgb(207,42,186) 40%,rgb(238,44,130) 60%,rgb(251,105,98) 80%,rgb(254,248,76) 100%);--wp--preset--gradient--blush-light-purple: linear-gradient(135deg,rgb(255,206,236) 0%,rgb(152,150,240) 100%);--wp--preset--gradient--blush-bordeaux: linear-gradient(135deg,rgb(254,205,165) 0%,rgb(254,45,45) 50%,rgb(107,0,62) 100%);--wp--preset--gradient--luminous-dusk: linear-gradient(135deg,rgb(255,203,112) 0%,rgb(199,81,192) 50%,rgb(65,88,208) 100%);--wp--preset--gradient--pale-ocean: linear-gradient(135deg,rgb(255,245,203) 0%,rgb(182,227,212) 50%,rgb(51,167,181) 100%);--wp--preset--gradient--electric-grass: linear-gradient(135deg,rgb(202,248,128) 0%,rgb(113,206,126) 100%);--wp--preset--gradient--midnight: linear-gradient(135deg,rgb(2,3,129) 0%,rgb(40,116,252) 100%);--wp--preset--duotone--dark-grayscale: url('#wp-duotone-dark-grayscale');--wp--preset--duotone--grayscale: url('#wp-duotone-grayscale');--wp--preset--duotone--purple-yellow: url('#wp-duotone-purple-yellow');--wp--preset--duotone--blue-red: url('#wp-duotone-blue-red');--wp--preset--duotone--midnight: url('#wp-duotone-midnight');--wp--preset--duotone--magenta-yellow: url('#wp-duotone-magenta-yellow');--wp--preset--duotone--purple-green: url('#wp-duotone-purple-green');--wp--preset--duotone--blue-orange: url('#wp-duotone-blue-orange');--wp--preset--font-size--small: 13px;--wp--preset--font-size--medium: 20px;--wp--preset--font-size--large: 36px;--wp--preset--font-size--x-large: 42px;}.has-black-color{color: var(--wp--preset--color--black) !important;}.has-cyan-bluish-gray-color{color: var(--wp--preset--color--cyan-bluish-gray) !important;}.has-white-color{color: var(--wp--preset--color--white) !important;}.has-pale-pink-color{color: var(--wp--preset--color--pale-pink) !important;}.has-vivid-red-color{color: var(--wp--preset--color--vivid-red) !important;}.has-luminous-vivid-orange-color{color: var(--wp--preset--color--luminous-vivid-orange) !important;}.has-luminous-vivid-amber-color{color: var(--wp--preset--color--luminous-vivid-amber) !important;}.has-light-green-cyan-color{color: var(--wp--preset--color--light-green-cyan) !important;}.has-vivid-green-cyan-color{color: var(--wp--preset--color--vivid-green-cyan) !important;}.has-pale-cyan-blue-color{color: var(--wp--preset--color--pale-cyan-blue) !important;}.has-vivid-cyan-blue-color{color: var(--wp--preset--color--vivid-cyan-blue) !important;}.has-vivid-purple-color{color: var(--wp--preset--color--vivid-purple) !important;}.has-black-background-color{background-color: var(--wp--preset--color--black) !important;}.has-cyan-bluish-gray-background-color{background-color: var(--wp--preset--color--cyan-bluish-gray) !important;}.has-white-background-color{background-color: var(--wp--preset--color--white) !important;}.has-pale-pink-background-color{background-color: var(--wp--preset--color--pale-pink) !important;}.has-vivid-red-background-color{background-color: var(--wp--preset--color--vivid-red) !important;}.has-luminous-vivid-orange-background-color{background-color: var(--wp--preset--color--luminous-vivid-orange) !important;}.has-luminous-vivid-amber-background-color{background-color: var(--wp--preset--color--luminous-vivid-amber) !important;}.has-light-green-cyan-background-color{background-color: var(--wp--preset--color--light-green-cyan) !important;}.has-vivid-green-cyan-background-color{background-color: var(--wp--preset--color--vivid-green-cyan) !important;}.has-pale-cyan-blue-background-color{background-color: var(--wp--preset--color--pale-cyan-blue) !important;}.has-vivid-cyan-blue-background-color{background-color: var(--wp--preset--color--vivid-cyan-blue) !important;}.has-vivid-purple-background-color{background-color: var(--wp--preset--color--vivid-purple) !important;}.has-black-border-color{border-color: var(--wp--preset--color--black) !important;}.has-cyan-bluish-gray-border-color{border-color: var(--wp--preset--color--cyan-bluish-gray) !important;}.has-white-border-color{border-color: var(--wp--preset--color--white) !important;}.has-pale-pink-border-color{border-color: var(--wp--preset--color--pale-pink) !important;}.has-vivid-red-border-color{border-color: var(--wp--preset--color--vivid-red) !important;}.has-luminous-vivid-orange-border-color{border-color: var(--wp--preset--color--luminous-vivid-orange) !important;}.has-luminous-vivid-amber-border-color{border-color: var(--wp--preset--color--luminous-vivid-amber) !important;}.has-light-green-cyan-border-color{border-color: var(--wp--preset--color--light-green-cyan) !important;}.has-vivid-green-cyan-border-color{border-color: var(--wp--preset--color--vivid-green-cyan) !important;}.has-pale-cyan-blue-border-color{border-color: var(--wp--preset--color--pale-cyan-blue) !important;}.has-vivid-cyan-blue-border-color{border-color: var(--wp--preset--color--vivid-cyan-blue) !important;}.has-vivid-purple-border-color{border-color: var(--wp--preset--color--vivid-purple) !important;}.has-vivid-cyan-blue-to-vivid-purple-gradient-background{background: var(--wp--preset--gradient--vivid-cyan-blue-to-vivid-purple) !important;}.has-light-green-cyan-to-vivid-green-cyan-gradient-background{background: var(--wp--preset--gradient--light-green-cyan-to-vivid-green-cyan) !important;}.has-luminous-vivid-amber-to-luminous-vivid-orange-gradient-background{background: var(--wp--preset--gradient--luminous-vivid-amber-to-luminous-vivid-orange) !important;}.has-luminous-vivid-orange-to-vivid-red-gradient-background{background: var(--wp--preset--gradient--luminous-vivid-orange-to-vivid-red) !important;}.has-very-light-gray-to-cyan-bluish-gray-gradient-background{background: var(--wp--preset--gradient--very-light-gray-to-cyan-bluish-gray) !important;}.has-cool-to-warm-spectrum-gradient-background{background: var(--wp--preset--gradient--cool-to-warm-spectrum) !important;}.has-blush-light-purple-gradient-background{background: var(--wp--preset--gradient--blush-light-purple) !important;}.has-blush-bordeaux-gradient-background{background: var(--wp--preset--gradient--blush-bordeaux) !important;}.has-luminous-dusk-gradient-background{background: var(--wp--preset--gradient--luminous-dusk) !important;}.has-pale-ocean-gradient-background{background: var(--wp--preset--gradient--pale-ocean) !important;}.has-electric-grass-gradient-background{background: var(--wp--preset--gradient--electric-grass) !important;}.has-midnight-gradient-background{background: var(--wp--preset--gradient--midnight) !important;}.has-small-font-size{font-size: var(--wp--preset--font-size--small) !important;}.has-medium-font-size{font-size: var(--wp--preset--font-size--medium) !important;}.has-large-font-size{font-size: var(--wp--preset--font-size--large) !important;}.has-x-large-font-size{font-size: var(--wp--preset--font-size--x-large) !important;}\n",
      "</style>\n",
      "<link as=\"style\" data-rocket-async=\"style\" href=\"https://www.whiskycigarsalon.com/wp-content/themes/hello-elementor/style.min.css?ver=2.5.0\" media=\"all\" onerror=\"this.removeAttribute('data-rocket-async')\" onload=\"this.onload=null;this.rel='stylesheet'\" rel=\"preload\" type=\"text/css\"/>\n",
      "<link as=\"style\" data-rocket-async=\"style\" href=\"https://www.whiskycigarsalon.com/wp-content/themes/hello-elementor/theme.min.css?ver=2.5.0\" media=\"all\" onerror=\"this.removeAttribute('data-rocket-async')\" onload=\"this.onload=null;this.rel='stylesheet'\" rel=\"preload\" type=\"text/css\"/>\n",
      "<link as=\"style\" data-minify=\"1\" data-rocket-async=\"style\" href=\"https://www.whiskycigarsalon.com/wp-content/cache/min/1/wp-content/plugins/elementor/assets/lib/eicons/css/elementor-icons.min.css?ver=1649866514\" media=\"all\" onerror=\"this.removeAttribute('data-rocket-async')\" onload=\"this.onload=null;this.rel='stylesheet'\" rel=\"preload\" type=\"text/css\"/>\n",
      "<link as=\"style\" data-rocket-async=\"style\" href=\"https://www.whiskycigarsalon.com/wp-content/plugins/elementor/assets/css/frontend-legacy.min.css?ver=3.6.4\" media=\"all\" onerror=\"this.removeAttribute('data-rocket-async')\" onload=\"this.onload=null;this.rel='stylesheet'\" rel=\"preload\" type=\"text/css\"/>\n",
      "<link as=\"style\" data-rocket-async=\"style\" href=\"https://www.whiskycigarsalon.com/wp-content/plugins/elementor/assets/css/frontend.min.css?ver=3.6.4\" media=\"all\" onerror=\"this.removeAttribute('data-rocket-async')\" onload=\"this.onload=null;this.rel='stylesheet'\" rel=\"preload\" type=\"text/css\"/>\n",
      "<link as=\"style\" data-rocket-async=\"style\" href=\"https://www.whiskycigarsalon.com/wp-content/uploads/elementor/css/post-6096.css?ver=1649866513\" media=\"all\" onerror=\"this.removeAttribute('data-rocket-async')\" onload=\"this.onload=null;this.rel='stylesheet'\" rel=\"preload\" type=\"text/css\"/>\n",
      "<link as=\"style\" data-rocket-async=\"style\" href=\"https://www.whiskycigarsalon.com/wp-content/plugins/elementor-pro/assets/css/frontend.min.css?ver=3.6.5\" media=\"all\" onerror=\"this.removeAttribute('data-rocket-async')\" onload=\"this.onload=null;this.rel='stylesheet'\" rel=\"preload\" type=\"text/css\"/>\n",
      "<link as=\"style\" data-rocket-async=\"style\" href=\"https://www.whiskycigarsalon.com/wp-content/uploads/elementor/css/global.css?ver=1649866514\" media=\"all\" onerror=\"this.removeAttribute('data-rocket-async')\" onload=\"this.onload=null;this.rel='stylesheet'\" rel=\"preload\" type=\"text/css\"/>\n",
      "<link as=\"style\" data-rocket-async=\"style\" href=\"https://www.whiskycigarsalon.com/wp-content/uploads/elementor/css/post-1037.css?ver=1650270867\" media=\"all\" onerror=\"this.removeAttribute('data-rocket-async')\" onload=\"this.onload=null;this.rel='stylesheet'\" rel=\"preload\" type=\"text/css\"/>\n",
      "<link as=\"style\" data-rocket-async=\"style\" href=\"https://www.whiskycigarsalon.com/wp-content/uploads/elementor/css/post-6099.css?ver=1649866693\" media=\"all\" onerror=\"this.removeAttribute('data-rocket-async')\" onload=\"this.onload=null;this.rel='stylesheet'\" rel=\"preload\" type=\"text/css\"/>\n",
      "<link as=\"style\" data-rocket-async=\"style\" href=\"https://www.whiskycigarsalon.com/wp-content/uploads/elementor/css/post-6102.css?ver=1649866693\" media=\"all\" onerror=\"this.removeAttribute('data-rocket-async')\" onload=\"this.onload=null;this.rel='stylesheet'\" rel=\"preload\" type=\"text/css\"/>\n",
      "<link as=\"style\" data-rocket-async=\"style\" href=\"https://www.whiskycigarsalon.com/wp-content/cache/borlabs-cookie/borlabs-cookie_1_de.css?ver=2.2.49-22\" media=\"all\" onerror=\"this.removeAttribute('data-rocket-async')\" onload=\"this.onload=null;this.rel='stylesheet'\" rel=\"preload\" type=\"text/css\"/>\n",
      "<link as=\"style\" data-minify=\"1\" data-rocket-async=\"style\" href=\"https://www.whiskycigarsalon.com/wp-content/cache/min/1/wp-content/plugins/ele-custom-skin/assets/css/ecs-style.css?ver=1649866514\" media=\"all\" onerror=\"this.removeAttribute('data-rocket-async')\" onload=\"this.onload=null;this.rel='stylesheet'\" rel=\"preload\" type=\"text/css\"/>\n",
      "<link as=\"style\" data-rocket-async=\"style\" href=\"https://www.whiskycigarsalon.com/wp-content/uploads/elementor/css/post-6206.css?ver=1630578280\" media=\"all\" onerror=\"this.removeAttribute('data-rocket-async')\" onload=\"this.onload=null;this.rel='stylesheet'\" rel=\"preload\" type=\"text/css\"/>\n",
      "<link as=\"style\" data-rocket-async=\"style\" href=\"https://www.whiskycigarsalon.com/wp-content/uploads/elementor/css/post-8147.css?ver=1630578817\" media=\"all\" onerror=\"this.removeAttribute('data-rocket-async')\" onload=\"this.onload=null;this.rel='stylesheet'\" rel=\"preload\" type=\"text/css\"/>\n",
      "<link as=\"style\" data-rocket-async=\"style\" href=\"https://www.whiskycigarsalon.com/wp-content/plugins/elementor/assets/lib/font-awesome/css/fontawesome.min.css?ver=5.15.3\" media=\"all\" onerror=\"this.removeAttribute('data-rocket-async')\" onload=\"this.onload=null;this.rel='stylesheet'\" rel=\"preload\" type=\"text/css\"/>\n",
      "<link as=\"style\" data-minify=\"1\" data-rocket-async=\"style\" href=\"https://www.whiskycigarsalon.com/wp-content/cache/min/1/wp-content/plugins/elementor/assets/lib/font-awesome/css/solid.min.css?ver=1649866514\" media=\"all\" onerror=\"this.removeAttribute('data-rocket-async')\" onload=\"this.onload=null;this.rel='stylesheet'\" rel=\"preload\" type=\"text/css\"/>\n",
      "<link as=\"style\" data-minify=\"1\" data-rocket-async=\"style\" href=\"https://www.whiskycigarsalon.com/wp-content/cache/min/1/wp-content/plugins/elementor/assets/lib/font-awesome/css/brands.min.css?ver=1649866514\" media=\"all\" onerror=\"this.removeAttribute('data-rocket-async')\" onload=\"this.onload=null;this.rel='stylesheet'\" rel=\"preload\" type=\"text/css\"/>\n",
      "<script id=\"jquery-core-js\" src=\"https://www.whiskycigarsalon.com/wp-includes/js/jquery/jquery.min.js?ver=3.6.0\" type=\"text/javascript\"></script>\n",
      "<script id=\"jquery-migrate-js\" src=\"https://www.whiskycigarsalon.com/wp-includes/js/jquery/jquery-migrate.min.js?ver=3.3.2\" type=\"text/javascript\"></script>\n",
      "<script id=\"ecs_ajax_load-js-extra\" type=\"text/javascript\">\n",
      "/* <![CDATA[ */\n",
      "var ecs_ajax_params = {\"ajaxurl\":\"https:\\/\\/www.whiskycigarsalon.com\\/wp-admin\\/admin-ajax.php\",\"posts\":\"{\\\"error\\\":\\\"\\\",\\\"m\\\":\\\"\\\",\\\"p\\\":1037,\\\"post_parent\\\":\\\"\\\",\\\"subpost\\\":\\\"\\\",\\\"subpost_id\\\":\\\"\\\",\\\"attachment\\\":\\\"\\\",\\\"attachment_id\\\":0,\\\"name\\\":\\\"\\\",\\\"pagename\\\":\\\"\\\",\\\"page_id\\\":1037,\\\"second\\\":\\\"\\\",\\\"minute\\\":\\\"\\\",\\\"hour\\\":\\\"\\\",\\\"day\\\":0,\\\"monthnum\\\":0,\\\"year\\\":0,\\\"w\\\":0,\\\"category_name\\\":\\\"\\\",\\\"tag\\\":\\\"\\\",\\\"cat\\\":\\\"\\\",\\\"tag_id\\\":\\\"\\\",\\\"author\\\":\\\"\\\",\\\"author_name\\\":\\\"\\\",\\\"feed\\\":\\\"\\\",\\\"tb\\\":\\\"\\\",\\\"paged\\\":0,\\\"meta_key\\\":\\\"\\\",\\\"meta_value\\\":\\\"\\\",\\\"preview\\\":\\\"\\\",\\\"s\\\":\\\"\\\",\\\"sentence\\\":\\\"\\\",\\\"title\\\":\\\"\\\",\\\"fields\\\":\\\"\\\",\\\"menu_order\\\":\\\"\\\",\\\"embed\\\":\\\"\\\",\\\"category__in\\\":[],\\\"category__not_in\\\":[],\\\"category__and\\\":[],\\\"post__in\\\":[],\\\"post__not_in\\\":[],\\\"post_name__in\\\":[],\\\"tag__in\\\":[],\\\"tag__not_in\\\":[],\\\"tag__and\\\":[],\\\"tag_slug__in\\\":[],\\\"tag_slug__and\\\":[],\\\"post_parent__in\\\":[],\\\"post_parent__not_in\\\":[],\\\"author__in\\\":[],\\\"author__not_in\\\":[],\\\"tax_query\\\":[{\\\"taxonomy\\\":\\\"language\\\",\\\"field\\\":\\\"term_taxonomy_id\\\",\\\"terms\\\":38,\\\"operator\\\":\\\"IN\\\"}],\\\"ignore_sticky_posts\\\":false,\\\"suppress_filters\\\":false,\\\"cache_results\\\":true,\\\"update_post_term_cache\\\":true,\\\"lazy_load_term_meta\\\":true,\\\"update_post_meta_cache\\\":true,\\\"post_type\\\":\\\"\\\",\\\"posts_per_page\\\":12,\\\"nopaging\\\":false,\\\"comments_per_page\\\":\\\"50\\\",\\\"no_found_rows\\\":false,\\\"taxonomy\\\":\\\"language\\\",\\\"term\\\":\\\"de\\\",\\\"order\\\":\\\"DESC\\\"}\"};\n",
      "/* ]]> */\n",
      "</script>\n",
      "<script data-minify=\"1\" id=\"ecs_ajax_load-js\" src=\"https://www.whiskycigarsalon.com/wp-content/cache/min/1/wp-content/plugins/ele-custom-skin/assets/js/ecs_ajax_pagination.js?ver=1644394272\" type=\"text/javascript\"></script>\n",
      "<script data-minify=\"1\" id=\"ecs-script-js\" src=\"https://www.whiskycigarsalon.com/wp-content/cache/min/1/wp-content/plugins/ele-custom-skin/assets/js/ecs.js?ver=1644394272\" type=\"text/javascript\"></script>\n",
      "<link href=\"https://www.whiskycigarsalon.com/wp-json/\" rel=\"https://api.w.org/\"/><link href=\"https://www.whiskycigarsalon.com/wp-json/wp/v2/pages/1037\" rel=\"alternate\" type=\"application/json\"/><link href=\"https://www.whiskycigarsalon.com/xmlrpc.php?rsd\" rel=\"EditURI\" title=\"RSD\" type=\"application/rsd+xml\"/>\n",
      "<link href=\"https://www.whiskycigarsalon.com/wp-includes/wlwmanifest.xml\" rel=\"wlwmanifest\" type=\"application/wlwmanifest+xml\"/>\n",
      "<meta content=\"WordPress 5.9.3\" name=\"generator\"/>\n",
      "<link href=\"https://www.whiskycigarsalon.com/\" rel=\"shortlink\"/>\n",
      "<link href=\"https://www.whiskycigarsalon.com/wp-json/oembed/1.0/embed?url=https%3A%2F%2Fwww.whiskycigarsalon.com%2Fde%2F\" rel=\"alternate\" type=\"application/json+oembed\"/>\n",
      "<link href=\"https://www.whiskycigarsalon.com/wp-json/oembed/1.0/embed?url=https%3A%2F%2Fwww.whiskycigarsalon.com%2Fde%2F&amp;format=xml\" rel=\"alternate\" type=\"text/xml+oembed\"/>\n",
      "<meta content=\"v1\" name=\"tec-api-version\"/><meta content=\"https://www.whiskycigarsalon.com\" name=\"tec-api-origin\"/><link href=\"https://www.whiskycigarsalon.com/wp-json/tribe/events/v1/\" rel=\"alternate\"/><link href=\"https://www.whiskycigarsalon.com/wp-content/uploads/cropped-Und_Zeichen_WCS-32x32.jpg\" rel=\"icon\" sizes=\"32x32\"/>\n",
      "<link href=\"https://www.whiskycigarsalon.com/wp-content/uploads/cropped-Und_Zeichen_WCS-192x192.jpg\" rel=\"icon\" sizes=\"192x192\"/>\n",
      "<link href=\"https://www.whiskycigarsalon.com/wp-content/uploads/cropped-Und_Zeichen_WCS-180x180.jpg\" rel=\"apple-touch-icon\"/>\n",
      "<meta content=\"https://www.whiskycigarsalon.com/wp-content/uploads/cropped-Und_Zeichen_WCS-270x270.jpg\" name=\"msapplication-TileImage\">\n",
      "<noscript><style id=\"rocket-lazyload-nojs-css\">.rll-youtube-player, [data-lazy-src]{display:none !important;}</style></noscript><script>\n",
      "/*! loadCSS rel=preload polyfill. [c]2017 Filament Group, Inc. MIT License */\n",
      "(function(w){\"use strict\";if(!w.loadCSS){w.loadCSS=function(){}}\n",
      "var rp=loadCSS.relpreload={};rp.support=(function(){var ret;try{ret=w.document.createElement(\"link\").relList.supports(\"preload\")}catch(e){ret=!1}\n",
      "return function(){return ret}})();rp.bindMediaToggle=function(link){var finalMedia=link.media||\"all\";function enableStylesheet(){link.media=finalMedia}\n",
      "if(link.addEventListener){link.addEventListener(\"load\",enableStylesheet)}else if(link.attachEvent){link.attachEvent(\"onload\",enableStylesheet)}\n",
      "setTimeout(function(){link.rel=\"stylesheet\";link.media=\"only x\"});setTimeout(enableStylesheet,3000)};rp.poly=function(){if(rp.support()){return}\n",
      "var links=w.document.getElementsByTagName(\"link\");for(var i=0;i<links.length;i++){var link=links[i];if(link.rel===\"preload\"&&link.getAttribute(\"as\")===\"style\"&&!link.getAttribute(\"data-loadcss\")){link.setAttribute(\"data-loadcss\",!0);rp.bindMediaToggle(link)}}};if(!rp.support()){rp.poly();var run=w.setInterval(rp.poly,500);if(w.addEventListener){w.addEventListener(\"load\",function(){rp.poly();w.clearInterval(run)})}else if(w.attachEvent){w.attachEvent(\"onload\",function(){rp.poly();w.clearInterval(run)})}}\n",
      "if(typeof exports!==\"undefined\"){exports.loadCSS=loadCSS}\n",
      "else{w.loadCSS=loadCSS}}(typeof global!==\"undefined\"?global:this))\n",
      "</script></meta></meta>, <meta content=\"Korn oder Whisky? Der beste Whisky Kontinentaleuropas ist ein Korn. Der Cigar Special wurde bei der „International Wine and Spirits Competition“ in L…\" name=\"description\"/>, <meta content=\"Waymarking.com is a way to mark unique locations on the planet and give them a voice. While GPS technology allows us to pinpoint any location on the planet, mark the location, and share it with others, Waymarking is the toolset for categorizing and adding unique information for that location.\" name=\"description\"/>, <meta content=\"T Westerholt - Hammer Str. - +492517937... - Münster, Germany reviews and experiences by real locals. Discover the best local restaurants, bars, cafes, salons and more on Tupalo\" name=\"description\"/>, <meta content=\"Kargl Cigar Lounge is at Grafenwall, 45657, Recklinghausen, Regierungsbezirk Munster, Germany Map, GPS  51.615669,7.200814. Find Kargl Cigar Lounge tobacco in Map.\" name=\"description\"/>, <meta content=\"Cigars &amp; Cigarillos. Read more\" name=\"description\"/>]\n"
     ]
    }
   ],
   "source": [
    "print(meta_descriptions)"
   ],
   "metadata": {
    "collapsed": false,
    "pycharm": {
     "name": "#%%\n"
    }
   }
  },
  {
   "cell_type": "code",
   "execution_count": null,
   "outputs": [],
   "source": [],
   "metadata": {
    "collapsed": false,
    "pycharm": {
     "name": "#%%\n"
    }
   }
  }
 ],
 "metadata": {
  "kernelspec": {
   "display_name": "Python 3",
   "language": "python",
   "name": "python3"
  },
  "language_info": {
   "codemirror_mode": {
    "name": "ipython",
    "version": 2
   },
   "file_extension": ".py",
   "mimetype": "text/x-python",
   "name": "python",
   "nbconvert_exporter": "python",
   "pygments_lexer": "ipython2",
   "version": "2.7.6"
  }
 },
 "nbformat": 4,
 "nbformat_minor": 0
}