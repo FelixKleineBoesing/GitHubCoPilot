{
 "cells": [
  {
   "cell_type": "code",
   "execution_count": 1,
   "metadata": {
    "collapsed": true
   },
   "outputs": [],
   "source": [
    "# read txt file \"pima-indians-diabetes.txt\" from data folder into variable data as dataframe\n",
    "import pandas as pd\n",
    "data = pd.read_csv(\"../../data/pima-indians-diabetes.txt\", header=None)\n",
    "\n",
    "# assign column names to the variable data\n",
    "data.columns = [\"pregnant\", \"plasma_glucose\", \"blood_pressure\", \"triceps\", \"insulin\", \"bmi\", \"diabetes_pedigree\", \"age\", \"class\"]\n"
   ]
  },
  {
   "cell_type": "code",
   "execution_count": null,
   "outputs": [],
   "source": [
    "# create a correlation matrix\n",
    "corr_matrix = data.corr()\n",
    "\n",
    "# visualize correlation matrix\n",
    "import seaborn as sns\n",
    "sns.heatmap(corr_matrix, annot=True)"
   ],
   "metadata": {
    "collapsed": false,
    "pycharm": {
     "name": "#%%\n",
     "is_executing": true
    }
   }
  },
  {
   "cell_type": "code",
   "execution_count": null,
   "outputs": [],
   "source": [
    "# create a scatter plot of \"plasma_glucose\" and \"blood_pressure\"\n",
    "sns.pairplot(data, x_vars=[\"plasma_glucose\"], y_vars=[\"blood_pressure\"])"
   ],
   "metadata": {
    "collapsed": false,
    "pycharm": {
     "name": "#%%\n",
     "is_executing": true
    }
   }
  },
  {
   "cell_type": "code",
   "execution_count": 5,
   "outputs": [],
   "source": [
    "# split data in train and test set\n",
    "from sklearn.model_selection import train_test_split\n",
    "X = data.drop(\"class\", axis=1)\n",
    "y = data[\"class\"]\n",
    "X_train, X_test, y_train, y_test = train_test_split(X, y, test_size=0.3, random_state=101)"
   ],
   "metadata": {
    "collapsed": false,
    "pycharm": {
     "name": "#%%\n"
    }
   }
  },
  {
   "cell_type": "code",
   "execution_count": null,
   "outputs": [],
   "source": [
    "# print number of 0 and 1 in class variable\n",
    "print(y_train.value_counts())"
   ],
   "metadata": {
    "collapsed": false,
    "pycharm": {
     "name": "#%%\n",
     "is_executing": true
    }
   }
  },
  {
   "cell_type": "code",
   "execution_count": 7,
   "outputs": [],
   "source": [
    "# Oversample the 1 class in train data\n",
    "from sklearn.utils import resample\n",
    "X_resampled, y_resampled = resample(X_train, y_train, replace=True, n_samples=350, random_state=123)"
   ],
   "metadata": {
    "collapsed": false,
    "pycharm": {
     "name": "#%%# Oversample the 1 class\n"
    }
   }
  },
  {
   "cell_type": "code",
   "execution_count": null,
   "outputs": [],
   "source": [
    "# train an XGBoost Classifier from sklearn with 20 iterations and 0.1 learning rate\n",
    "from xgboost import XGBClassifier\n",
    "model = XGBClassifier(max_depth=3, learning_rate=0.1, n_estimators=20, silent=True, objective='binary:logistic')\n",
    "model.fit(X_resampled, y_resampled)"
   ],
   "metadata": {
    "collapsed": false,
    "pycharm": {
     "name": "#%%\n",
     "is_executing": true
    }
   }
  },
  {
   "cell_type": "code",
   "execution_count": null,
   "outputs": [],
   "source": [
    "# print the corresponding variable names with the feature importances\n",
    "for i in range(len(model.feature_importances_)):\n",
    "    print(X.columns[i], model.feature_importances_[i])"
   ],
   "metadata": {
    "collapsed": false,
    "pycharm": {
     "name": "#%%\n",
     "is_executing": true
    }
   }
  },
  {
   "cell_type": "code",
   "execution_count": null,
   "outputs": [],
   "source": [
    "from sklearn.metrics import recall_score\n",
    "\n",
    "accuracy = model.score(X_test, y_test)\n",
    "recall = recall_score(y_test, model.predict(X_test))\n",
    "print(accuracy)\n",
    "print(recall)"
   ],
   "metadata": {
    "collapsed": false,
    "pycharm": {
     "name": "#%%\n",
     "is_executing": true
    }
   }
  }
 ],
 "metadata": {
  "kernelspec": {
   "display_name": "Python 3",
   "language": "python",
   "name": "python3"
  },
  "language_info": {
   "codemirror_mode": {
    "name": "ipython",
    "version": 2
   },
   "file_extension": ".py",
   "mimetype": "text/x-python",
   "name": "python",
   "nbconvert_exporter": "python",
   "pygments_lexer": "ipython2",
   "version": "2.7.6"
  }
 },
 "nbformat": 4,
 "nbformat_minor": 0
}