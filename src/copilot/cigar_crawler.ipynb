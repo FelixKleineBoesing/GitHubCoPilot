{
 "cells": [
  {
   "cell_type": "code",
   "execution_count": 1,
   "metadata": {
    "collapsed": true
   },
   "outputs": [],
   "source": [
    "from googlesearch import search\n",
    "import requests"
   ]
  },
  {
   "cell_type": "code",
   "execution_count": 2,
   "outputs": [],
   "source": [
    "# search for cigar shops near Münster, germany with googlesearch and store the results in a list\n",
    "query = 'cigar shop near Münster, Germany'\n",
    "results = list(search(query,lang='en'))"
   ],
   "metadata": {
    "collapsed": false,
    "pycharm": {
     "name": "#%%\n"
    }
   }
  },
  {
   "cell_type": "code",
   "execution_count": 3,
   "outputs": [],
   "source": [
    "# get html of every website in the list results and store it in a list\n",
    "html_list = []\n",
    "for result in results:\n",
    "    html_list.append(requests.get(result).text)"
   ],
   "metadata": {
    "collapsed": false,
    "pycharm": {
     "name": "#%%\n"
    }
   }
  },
  {
   "cell_type": "code",
   "execution_count": 4,
   "outputs": [],
   "source": [
    "# use beatifulsoup to parse the html of every website in the list html_list\n",
    "from bs4 import BeautifulSoup\n",
    "soup_list = []\n",
    "for html in html_list:\n",
    "    soup_list.append(BeautifulSoup(html,'html.parser'))"
   ],
   "metadata": {
    "collapsed": false,
    "pycharm": {
     "name": "#%%\n"
    }
   }
  },
  {
   "cell_type": "code",
   "execution_count": 6,
   "outputs": [],
   "source": [
    "# extract meta keywords and meta titles from every website in the list soup_list\n",
    "meta_keywords_list = []\n",
    "meta_titles_list = []\n",
    "meta_description_list = []\n",
    "for soup in soup_list:\n",
    "    meta_keywords_list.append(soup.find('meta',attrs={'name':'keywords'}))\n",
    "    meta_titles_list.append(soup.find('title').text)\n",
    "    meta_description_list.append(soup.find('meta',attrs={'name':'description'}))"
   ],
   "metadata": {
    "collapsed": false,
    "pycharm": {
     "name": "#%%\n"
    }
   }
  },
  {
   "cell_type": "code",
   "execution_count": null,
   "outputs": [],
   "source": [
    "print(meta_description_list)"
   ],
   "metadata": {
    "collapsed": false,
    "pycharm": {
     "name": "#%%\n",
     "is_executing": true
    }
   }
  }
 ],
 "metadata": {
  "kernelspec": {
   "display_name": "Python 3",
   "language": "python",
   "name": "python3"
  },
  "language_info": {
   "codemirror_mode": {
    "name": "ipython",
    "version": 2
   },
   "file_extension": ".py",
   "mimetype": "text/x-python",
   "name": "python",
   "nbconvert_exporter": "python",
   "pygments_lexer": "ipython2",
   "version": "2.7.6"
  }
 },
 "nbformat": 4,
 "nbformat_minor": 0
}